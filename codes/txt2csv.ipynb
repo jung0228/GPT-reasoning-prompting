{
 "cells": [
  {
   "cell_type": "code",
   "execution_count": 16,
   "metadata": {},
   "outputs": [],
   "source": [
    "import os \n",
    "import pandas as pd \n",
    "\n",
    "def return_output(file_path, start_idx):\n",
    "    f = open(file_path, \"r\", encoding='UTF-8') \n",
    "    text = f.read() \n",
    "    end_idx   = text.find(\"###\", start_idx+1)\n",
    "    output = text[start_idx:end_idx].replace(\"###\", \"\")\n",
    "    start_idx = end_idx\n",
    "    f.close() \n",
    "    return output, start_idx\n",
    "\n",
    "def return_file_path(model):\n",
    "  output_file_lst = os.listdir(f\"../{model}\")\n",
    "  output_file_lst = [f\"../{model}/\"+ file for file in output_file_lst]\n",
    "  return output_file_lst\n",
    "\n",
    "def txt2csv(txt_file_path, csv_file_path):\n",
    "  df = pd.DataFrame(columns=[\"Q1\", \"Q2\", \"Q3\", \"Q4\", \"Divisible Number1\", \"Divisible Number2\"])\n",
    "  \n",
    "  f = open(txt_file_path, \"r\")\n",
    "  text = f.read() \n",
    "\n",
    "  idx = 0\n",
    "\n",
    "  f = open(txt_file_path, \"r\", encoding='UTF-8') \n",
    "  text = f.read() \n",
    "  \n",
    "  if \"prime\" in txt_file_path:\n",
    "    num = text.count(\"###\") // 4\n",
    "  else:\n",
    "    num = text.count(\"###\") // 6\n",
    "\n",
    "  for j in range(num):\n",
    "    l = []\n",
    "\n",
    "    for i in range(6):\n",
    "      if \"prime\" in txt_file_path:\n",
    "        if i >= 4:\n",
    "          l.append(\"null\")\n",
    "          continue\n",
    "      r1, idx = return_output(txt_file_path, idx)\n",
    "      r1 = r1.replace(\"\\n\", \"\")\n",
    "      l.append(r1)\n",
    "    df.loc[j] = l\n",
    "    \n",
    "  df.to_csv(csv_file_path)"
   ]
  },
  {
   "cell_type": "code",
   "execution_count": 18,
   "metadata": {},
   "outputs": [],
   "source": [
    "# model = \"newest output\"\n",
    "model = \"output\"\n",
    "\n",
    "text_files = return_file_path(model) \n",
    "\n",
    "for text_path in text_files:\n",
    "  csv_path = text_path[:-4] + \".csv\"\n",
    "  txt2csv(text_path, csv_path)"
   ]
  },
  {
   "cell_type": "code",
   "execution_count": null,
   "metadata": {},
   "outputs": [],
   "source": []
  }
 ],
 "metadata": {
  "kernelspec": {
   "display_name": "base",
   "language": "python",
   "name": "python3"
  },
  "language_info": {
   "codemirror_mode": {
    "name": "ipython",
    "version": 3
   },
   "file_extension": ".py",
   "mimetype": "text/x-python",
   "name": "python",
   "nbconvert_exporter": "python",
   "pygments_lexer": "ipython3",
   "version": "3.12.2"
  }
 },
 "nbformat": 4,
 "nbformat_minor": 2
}
